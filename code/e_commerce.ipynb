{
 "cells": [
  {
   "cell_type": "markdown",
   "metadata": {},
   "source": [
    "# 电商数据分析\n",
    "## 数据读入"
   ]
  },
  {
   "cell_type": "code",
   "execution_count": 126,
   "metadata": {
    "ExecuteTime": {
     "end_time": "2021-07-23T07:55:28.892436Z",
     "start_time": "2021-07-23T07:55:28.885424Z"
    }
   },
   "outputs": [],
   "source": [
    "import pandas as pd\n",
    "import matplotlib.pyplot as plt"
   ]
  },
  {
   "cell_type": "code",
   "execution_count": 127,
   "metadata": {
    "ExecuteTime": {
     "end_time": "2021-07-23T07:55:29.471064Z",
     "start_time": "2021-07-23T07:55:28.895370Z"
    }
   },
   "outputs": [
    {
     "data": {
      "text/html": [
       "<div>\n",
       "<style scoped>\n",
       "    .dataframe tbody tr th:only-of-type {\n",
       "        vertical-align: middle;\n",
       "    }\n",
       "\n",
       "    .dataframe tbody tr th {\n",
       "        vertical-align: top;\n",
       "    }\n",
       "\n",
       "    .dataframe thead th {\n",
       "        text-align: right;\n",
       "    }\n",
       "</style>\n",
       "<table border=\"1\" class=\"dataframe\">\n",
       "  <thead>\n",
       "    <tr style=\"text-align: right;\">\n",
       "      <th></th>\n",
       "      <th>InvoiceNo</th>\n",
       "      <th>StockCode</th>\n",
       "      <th>Description</th>\n",
       "      <th>Quantity</th>\n",
       "      <th>InvoiceDate</th>\n",
       "      <th>UnitPrice</th>\n",
       "      <th>CustomerID</th>\n",
       "      <th>Country</th>\n",
       "    </tr>\n",
       "  </thead>\n",
       "  <tbody>\n",
       "    <tr>\n",
       "      <td>0</td>\n",
       "      <td>536365</td>\n",
       "      <td>85123A</td>\n",
       "      <td>WHITE HANGING HEART T-LIGHT HOLDER</td>\n",
       "      <td>6</td>\n",
       "      <td>12/1/2010 8:26</td>\n",
       "      <td>2.55</td>\n",
       "      <td>17850.0</td>\n",
       "      <td>United Kingdom</td>\n",
       "    </tr>\n",
       "    <tr>\n",
       "      <td>1</td>\n",
       "      <td>536365</td>\n",
       "      <td>71053</td>\n",
       "      <td>WHITE METAL LANTERN</td>\n",
       "      <td>6</td>\n",
       "      <td>12/1/2010 8:26</td>\n",
       "      <td>3.39</td>\n",
       "      <td>17850.0</td>\n",
       "      <td>United Kingdom</td>\n",
       "    </tr>\n",
       "    <tr>\n",
       "      <td>2</td>\n",
       "      <td>536365</td>\n",
       "      <td>84406B</td>\n",
       "      <td>CREAM CUPID HEARTS COAT HANGER</td>\n",
       "      <td>8</td>\n",
       "      <td>12/1/2010 8:26</td>\n",
       "      <td>2.75</td>\n",
       "      <td>17850.0</td>\n",
       "      <td>United Kingdom</td>\n",
       "    </tr>\n",
       "    <tr>\n",
       "      <td>3</td>\n",
       "      <td>536365</td>\n",
       "      <td>84029G</td>\n",
       "      <td>KNITTED UNION FLAG HOT WATER BOTTLE</td>\n",
       "      <td>6</td>\n",
       "      <td>12/1/2010 8:26</td>\n",
       "      <td>3.39</td>\n",
       "      <td>17850.0</td>\n",
       "      <td>United Kingdom</td>\n",
       "    </tr>\n",
       "    <tr>\n",
       "      <td>4</td>\n",
       "      <td>536365</td>\n",
       "      <td>84029E</td>\n",
       "      <td>RED WOOLLY HOTTIE WHITE HEART.</td>\n",
       "      <td>6</td>\n",
       "      <td>12/1/2010 8:26</td>\n",
       "      <td>3.39</td>\n",
       "      <td>17850.0</td>\n",
       "      <td>United Kingdom</td>\n",
       "    </tr>\n",
       "  </tbody>\n",
       "</table>\n",
       "</div>"
      ],
      "text/plain": [
       "  InvoiceNo StockCode                          Description  Quantity  \\\n",
       "0    536365    85123A   WHITE HANGING HEART T-LIGHT HOLDER         6   \n",
       "1    536365     71053                  WHITE METAL LANTERN         6   \n",
       "2    536365    84406B       CREAM CUPID HEARTS COAT HANGER         8   \n",
       "3    536365    84029G  KNITTED UNION FLAG HOT WATER BOTTLE         6   \n",
       "4    536365    84029E       RED WOOLLY HOTTIE WHITE HEART.         6   \n",
       "\n",
       "      InvoiceDate  UnitPrice  CustomerID         Country  \n",
       "0  12/1/2010 8:26       2.55     17850.0  United Kingdom  \n",
       "1  12/1/2010 8:26       3.39     17850.0  United Kingdom  \n",
       "2  12/1/2010 8:26       2.75     17850.0  United Kingdom  \n",
       "3  12/1/2010 8:26       3.39     17850.0  United Kingdom  \n",
       "4  12/1/2010 8:26       3.39     17850.0  United Kingdom  "
      ]
     },
     "execution_count": 127,
     "metadata": {},
     "output_type": "execute_result"
    }
   ],
   "source": [
    "filepath = r'../data/data.csv'\n",
    "raw = pd.read_csv(filepath, encoding=\"ISO-8859-1\")\n",
    "raw.head()"
   ]
  },
  {
   "cell_type": "markdown",
   "metadata": {},
   "source": [
    "## 数据预处理"
   ]
  },
  {
   "cell_type": "code",
   "execution_count": 128,
   "metadata": {
    "ExecuteTime": {
     "end_time": "2021-07-23T07:55:29.594730Z",
     "start_time": "2021-07-23T07:55:29.474052Z"
    }
   },
   "outputs": [
    {
     "name": "stdout",
     "output_type": "stream",
     "text": [
      "<class 'pandas.core.frame.DataFrame'>\n",
      "RangeIndex: 541909 entries, 0 to 541908\n",
      "Data columns (total 8 columns):\n",
      "InvoiceNo      541909 non-null object\n",
      "StockCode      541909 non-null object\n",
      "Description    540455 non-null object\n",
      "Quantity       541909 non-null int64\n",
      "InvoiceDate    541909 non-null object\n",
      "UnitPrice      541909 non-null float64\n",
      "CustomerID     406829 non-null float64\n",
      "Country        541909 non-null object\n",
      "dtypes: float64(2), int64(1), object(5)\n",
      "memory usage: 33.1+ MB\n"
     ]
    }
   ],
   "source": [
    "raw.info()"
   ]
  },
  {
   "cell_type": "code",
   "execution_count": 129,
   "metadata": {
    "ExecuteTime": {
     "end_time": "2021-07-23T07:55:30.273913Z",
     "start_time": "2021-07-23T07:55:29.596725Z"
    }
   },
   "outputs": [
    {
     "data": {
      "text/html": [
       "<div>\n",
       "<style scoped>\n",
       "    .dataframe tbody tr th:only-of-type {\n",
       "        vertical-align: middle;\n",
       "    }\n",
       "\n",
       "    .dataframe tbody tr th {\n",
       "        vertical-align: top;\n",
       "    }\n",
       "\n",
       "    .dataframe thead th {\n",
       "        text-align: right;\n",
       "    }\n",
       "</style>\n",
       "<table border=\"1\" class=\"dataframe\">\n",
       "  <thead>\n",
       "    <tr style=\"text-align: right;\">\n",
       "      <th></th>\n",
       "      <th>InvoiceNo</th>\n",
       "      <th>StockCode</th>\n",
       "      <th>Quantity</th>\n",
       "      <th>InvoiceDate</th>\n",
       "      <th>UnitPrice</th>\n",
       "      <th>CustomerID</th>\n",
       "      <th>Country</th>\n",
       "    </tr>\n",
       "  </thead>\n",
       "  <tbody>\n",
       "    <tr>\n",
       "      <td>0</td>\n",
       "      <td>536365</td>\n",
       "      <td>85123A</td>\n",
       "      <td>6</td>\n",
       "      <td>12/1/2010 8:26</td>\n",
       "      <td>2.55</td>\n",
       "      <td>17850.0</td>\n",
       "      <td>United Kingdom</td>\n",
       "    </tr>\n",
       "    <tr>\n",
       "      <td>1</td>\n",
       "      <td>536365</td>\n",
       "      <td>71053</td>\n",
       "      <td>6</td>\n",
       "      <td>12/1/2010 8:26</td>\n",
       "      <td>3.39</td>\n",
       "      <td>17850.0</td>\n",
       "      <td>United Kingdom</td>\n",
       "    </tr>\n",
       "    <tr>\n",
       "      <td>2</td>\n",
       "      <td>536365</td>\n",
       "      <td>84406B</td>\n",
       "      <td>8</td>\n",
       "      <td>12/1/2010 8:26</td>\n",
       "      <td>2.75</td>\n",
       "      <td>17850.0</td>\n",
       "      <td>United Kingdom</td>\n",
       "    </tr>\n",
       "    <tr>\n",
       "      <td>3</td>\n",
       "      <td>536365</td>\n",
       "      <td>84029G</td>\n",
       "      <td>6</td>\n",
       "      <td>12/1/2010 8:26</td>\n",
       "      <td>3.39</td>\n",
       "      <td>17850.0</td>\n",
       "      <td>United Kingdom</td>\n",
       "    </tr>\n",
       "    <tr>\n",
       "      <td>4</td>\n",
       "      <td>536365</td>\n",
       "      <td>84029E</td>\n",
       "      <td>6</td>\n",
       "      <td>12/1/2010 8:26</td>\n",
       "      <td>3.39</td>\n",
       "      <td>17850.0</td>\n",
       "      <td>United Kingdom</td>\n",
       "    </tr>\n",
       "    <tr>\n",
       "      <td>...</td>\n",
       "      <td>...</td>\n",
       "      <td>...</td>\n",
       "      <td>...</td>\n",
       "      <td>...</td>\n",
       "      <td>...</td>\n",
       "      <td>...</td>\n",
       "      <td>...</td>\n",
       "    </tr>\n",
       "    <tr>\n",
       "      <td>541904</td>\n",
       "      <td>581587</td>\n",
       "      <td>22613</td>\n",
       "      <td>12</td>\n",
       "      <td>12/9/2011 12:50</td>\n",
       "      <td>0.85</td>\n",
       "      <td>12680.0</td>\n",
       "      <td>France</td>\n",
       "    </tr>\n",
       "    <tr>\n",
       "      <td>541905</td>\n",
       "      <td>581587</td>\n",
       "      <td>22899</td>\n",
       "      <td>6</td>\n",
       "      <td>12/9/2011 12:50</td>\n",
       "      <td>2.10</td>\n",
       "      <td>12680.0</td>\n",
       "      <td>France</td>\n",
       "    </tr>\n",
       "    <tr>\n",
       "      <td>541906</td>\n",
       "      <td>581587</td>\n",
       "      <td>23254</td>\n",
       "      <td>4</td>\n",
       "      <td>12/9/2011 12:50</td>\n",
       "      <td>4.15</td>\n",
       "      <td>12680.0</td>\n",
       "      <td>France</td>\n",
       "    </tr>\n",
       "    <tr>\n",
       "      <td>541907</td>\n",
       "      <td>581587</td>\n",
       "      <td>23255</td>\n",
       "      <td>4</td>\n",
       "      <td>12/9/2011 12:50</td>\n",
       "      <td>4.15</td>\n",
       "      <td>12680.0</td>\n",
       "      <td>France</td>\n",
       "    </tr>\n",
       "    <tr>\n",
       "      <td>541908</td>\n",
       "      <td>581587</td>\n",
       "      <td>22138</td>\n",
       "      <td>3</td>\n",
       "      <td>12/9/2011 12:50</td>\n",
       "      <td>4.95</td>\n",
       "      <td>12680.0</td>\n",
       "      <td>France</td>\n",
       "    </tr>\n",
       "  </tbody>\n",
       "</table>\n",
       "<p>536641 rows × 7 columns</p>\n",
       "</div>"
      ],
      "text/plain": [
       "       InvoiceNo StockCode  Quantity      InvoiceDate  UnitPrice CustomerID  \\\n",
       "0         536365    85123A         6   12/1/2010 8:26       2.55    17850.0   \n",
       "1         536365     71053         6   12/1/2010 8:26       3.39    17850.0   \n",
       "2         536365    84406B         8   12/1/2010 8:26       2.75    17850.0   \n",
       "3         536365    84029G         6   12/1/2010 8:26       3.39    17850.0   \n",
       "4         536365    84029E         6   12/1/2010 8:26       3.39    17850.0   \n",
       "...          ...       ...       ...              ...        ...        ...   \n",
       "541904    581587     22613        12  12/9/2011 12:50       0.85    12680.0   \n",
       "541905    581587     22899         6  12/9/2011 12:50       2.10    12680.0   \n",
       "541906    581587     23254         4  12/9/2011 12:50       4.15    12680.0   \n",
       "541907    581587     23255         4  12/9/2011 12:50       4.15    12680.0   \n",
       "541908    581587     22138         3  12/9/2011 12:50       4.95    12680.0   \n",
       "\n",
       "               Country  \n",
       "0       United Kingdom  \n",
       "1       United Kingdom  \n",
       "2       United Kingdom  \n",
       "3       United Kingdom  \n",
       "4       United Kingdom  \n",
       "...                ...  \n",
       "541904          France  \n",
       "541905          France  \n",
       "541906          France  \n",
       "541907          France  \n",
       "541908          France  \n",
       "\n",
       "[536641 rows x 7 columns]"
      ]
     },
     "execution_count": 129,
     "metadata": {},
     "output_type": "execute_result"
    }
   ],
   "source": [
    "df1 = raw.copy()\n",
    "#简单去重\n",
    "df1 = df1.drop_duplicates()\n",
    "#暂不考虑产品描述\n",
    "df1.drop([\"Description\"],axis = 1, inplace=True)\n",
    "#缺失值处理\n",
    "df1[\"CustomerID\"] = df1[\"CustomerID\"].fillna(\"unknown\")\n",
    "#修改数据类型\n",
    "df1[\"CustomerID\"] = df1[\"CustomerID\"].astype(\"str\")\n",
    "# df1[df1.CustomerID != df1.CustomerID]\n",
    "# set(df1.CustomerID)\n",
    "df1"
   ]
  },
  {
   "cell_type": "code",
   "execution_count": 130,
   "metadata": {
    "ExecuteTime": {
     "end_time": "2021-07-23T07:55:30.416920Z",
     "start_time": "2021-07-23T07:55:30.275907Z"
    }
   },
   "outputs": [
    {
     "data": {
      "text/html": [
       "<div>\n",
       "<style scoped>\n",
       "    .dataframe tbody tr th:only-of-type {\n",
       "        vertical-align: middle;\n",
       "    }\n",
       "\n",
       "    .dataframe tbody tr th {\n",
       "        vertical-align: top;\n",
       "    }\n",
       "\n",
       "    .dataframe thead th {\n",
       "        text-align: right;\n",
       "    }\n",
       "</style>\n",
       "<table border=\"1\" class=\"dataframe\">\n",
       "  <thead>\n",
       "    <tr style=\"text-align: right;\">\n",
       "      <th></th>\n",
       "      <th>Quantity</th>\n",
       "      <th>UnitPrice</th>\n",
       "    </tr>\n",
       "  </thead>\n",
       "  <tbody>\n",
       "    <tr>\n",
       "      <td>count</td>\n",
       "      <td>536641.000000</td>\n",
       "      <td>536641.000000</td>\n",
       "    </tr>\n",
       "    <tr>\n",
       "      <td>mean</td>\n",
       "      <td>9.620029</td>\n",
       "      <td>4.632656</td>\n",
       "    </tr>\n",
       "    <tr>\n",
       "      <td>std</td>\n",
       "      <td>219.130156</td>\n",
       "      <td>97.233118</td>\n",
       "    </tr>\n",
       "    <tr>\n",
       "      <td>min</td>\n",
       "      <td>-80995.000000</td>\n",
       "      <td>-11062.060000</td>\n",
       "    </tr>\n",
       "    <tr>\n",
       "      <td>25%</td>\n",
       "      <td>1.000000</td>\n",
       "      <td>1.250000</td>\n",
       "    </tr>\n",
       "    <tr>\n",
       "      <td>50%</td>\n",
       "      <td>3.000000</td>\n",
       "      <td>2.080000</td>\n",
       "    </tr>\n",
       "    <tr>\n",
       "      <td>75%</td>\n",
       "      <td>10.000000</td>\n",
       "      <td>4.130000</td>\n",
       "    </tr>\n",
       "    <tr>\n",
       "      <td>max</td>\n",
       "      <td>80995.000000</td>\n",
       "      <td>38970.000000</td>\n",
       "    </tr>\n",
       "  </tbody>\n",
       "</table>\n",
       "</div>"
      ],
      "text/plain": [
       "            Quantity      UnitPrice\n",
       "count  536641.000000  536641.000000\n",
       "mean        9.620029       4.632656\n",
       "std       219.130156      97.233118\n",
       "min    -80995.000000  -11062.060000\n",
       "25%         1.000000       1.250000\n",
       "50%         3.000000       2.080000\n",
       "75%        10.000000       4.130000\n",
       "max     80995.000000   38970.000000"
      ]
     },
     "execution_count": 130,
     "metadata": {},
     "output_type": "execute_result"
    }
   ],
   "source": [
    "#异常值查看\n",
    "df1.describe()"
   ]
  },
  {
   "cell_type": "markdown",
   "metadata": {},
   "source": [
    "负数的数量为退货，负数的价格定义为异常。"
   ]
  },
  {
   "cell_type": "code",
   "execution_count": 131,
   "metadata": {
    "ExecuteTime": {
     "end_time": "2021-07-23T07:55:30.494710Z",
     "start_time": "2021-07-23T07:55:30.419911Z"
    }
   },
   "outputs": [],
   "source": [
    "df1 = df1[df1[\"UnitPrice\"] >= 0]"
   ]
  },
  {
   "cell_type": "markdown",
   "metadata": {},
   "source": [
    "数据类型处理"
   ]
  },
  {
   "cell_type": "code",
   "execution_count": 132,
   "metadata": {
    "ExecuteTime": {
     "end_time": "2021-07-23T07:55:36.282376Z",
     "start_time": "2021-07-23T07:55:30.497703Z"
    }
   },
   "outputs": [
    {
     "name": "stderr",
     "output_type": "stream",
     "text": [
      "C:\\Anaconda3\\lib\\site-packages\\ipykernel_launcher.py:1: SettingWithCopyWarning: \n",
      "A value is trying to be set on a copy of a slice from a DataFrame.\n",
      "Try using .loc[row_indexer,col_indexer] = value instead\n",
      "\n",
      "See the caveats in the documentation: http://pandas.pydata.org/pandas-docs/stable/user_guide/indexing.html#returning-a-view-versus-a-copy\n",
      "  \"\"\"Entry point for launching an IPython kernel.\n",
      "C:\\Anaconda3\\lib\\site-packages\\pandas\\core\\frame.py:3494: SettingWithCopyWarning: \n",
      "A value is trying to be set on a copy of a slice from a DataFrame.\n",
      "Try using .loc[row_indexer,col_indexer] = value instead\n",
      "\n",
      "See the caveats in the documentation: http://pandas.pydata.org/pandas-docs/stable/user_guide/indexing.html#returning-a-view-versus-a-copy\n",
      "  self[k1] = value[k2]\n",
      "C:\\Anaconda3\\lib\\site-packages\\ipykernel_launcher.py:4: SettingWithCopyWarning: \n",
      "A value is trying to be set on a copy of a slice from a DataFrame.\n",
      "Try using .loc[row_indexer,col_indexer] = value instead\n",
      "\n",
      "See the caveats in the documentation: http://pandas.pydata.org/pandas-docs/stable/user_guide/indexing.html#returning-a-view-versus-a-copy\n",
      "  after removing the cwd from sys.path.\n"
     ]
    },
    {
     "data": {
      "text/html": [
       "<div>\n",
       "<style scoped>\n",
       "    .dataframe tbody tr th:only-of-type {\n",
       "        vertical-align: middle;\n",
       "    }\n",
       "\n",
       "    .dataframe tbody tr th {\n",
       "        vertical-align: top;\n",
       "    }\n",
       "\n",
       "    .dataframe thead th {\n",
       "        text-align: right;\n",
       "    }\n",
       "</style>\n",
       "<table border=\"1\" class=\"dataframe\">\n",
       "  <thead>\n",
       "    <tr style=\"text-align: right;\">\n",
       "      <th></th>\n",
       "      <th>InvoiceNo</th>\n",
       "      <th>StockCode</th>\n",
       "      <th>Quantity</th>\n",
       "      <th>InvoiceDate</th>\n",
       "      <th>UnitPrice</th>\n",
       "      <th>CustomerID</th>\n",
       "      <th>Country</th>\n",
       "      <th>Total</th>\n",
       "      <th>Date</th>\n",
       "      <th>Time</th>\n",
       "      <th>Month</th>\n",
       "      <th>Day</th>\n",
       "      <th>Year</th>\n",
       "      <th>Hour</th>\n",
       "    </tr>\n",
       "  </thead>\n",
       "  <tbody>\n",
       "    <tr>\n",
       "      <td>0</td>\n",
       "      <td>536365</td>\n",
       "      <td>85123A</td>\n",
       "      <td>6</td>\n",
       "      <td>12/1/2010 8:26</td>\n",
       "      <td>2.55</td>\n",
       "      <td>17850.0</td>\n",
       "      <td>United Kingdom</td>\n",
       "      <td>15.30</td>\n",
       "      <td>12/1/2010</td>\n",
       "      <td>8:26</td>\n",
       "      <td>12</td>\n",
       "      <td>1</td>\n",
       "      <td>2010</td>\n",
       "      <td>8</td>\n",
       "    </tr>\n",
       "    <tr>\n",
       "      <td>1</td>\n",
       "      <td>536365</td>\n",
       "      <td>71053</td>\n",
       "      <td>6</td>\n",
       "      <td>12/1/2010 8:26</td>\n",
       "      <td>3.39</td>\n",
       "      <td>17850.0</td>\n",
       "      <td>United Kingdom</td>\n",
       "      <td>20.34</td>\n",
       "      <td>12/1/2010</td>\n",
       "      <td>8:26</td>\n",
       "      <td>12</td>\n",
       "      <td>1</td>\n",
       "      <td>2010</td>\n",
       "      <td>8</td>\n",
       "    </tr>\n",
       "    <tr>\n",
       "      <td>2</td>\n",
       "      <td>536365</td>\n",
       "      <td>84406B</td>\n",
       "      <td>8</td>\n",
       "      <td>12/1/2010 8:26</td>\n",
       "      <td>2.75</td>\n",
       "      <td>17850.0</td>\n",
       "      <td>United Kingdom</td>\n",
       "      <td>22.00</td>\n",
       "      <td>12/1/2010</td>\n",
       "      <td>8:26</td>\n",
       "      <td>12</td>\n",
       "      <td>1</td>\n",
       "      <td>2010</td>\n",
       "      <td>8</td>\n",
       "    </tr>\n",
       "    <tr>\n",
       "      <td>3</td>\n",
       "      <td>536365</td>\n",
       "      <td>84029G</td>\n",
       "      <td>6</td>\n",
       "      <td>12/1/2010 8:26</td>\n",
       "      <td>3.39</td>\n",
       "      <td>17850.0</td>\n",
       "      <td>United Kingdom</td>\n",
       "      <td>20.34</td>\n",
       "      <td>12/1/2010</td>\n",
       "      <td>8:26</td>\n",
       "      <td>12</td>\n",
       "      <td>1</td>\n",
       "      <td>2010</td>\n",
       "      <td>8</td>\n",
       "    </tr>\n",
       "    <tr>\n",
       "      <td>4</td>\n",
       "      <td>536365</td>\n",
       "      <td>84029E</td>\n",
       "      <td>6</td>\n",
       "      <td>12/1/2010 8:26</td>\n",
       "      <td>3.39</td>\n",
       "      <td>17850.0</td>\n",
       "      <td>United Kingdom</td>\n",
       "      <td>20.34</td>\n",
       "      <td>12/1/2010</td>\n",
       "      <td>8:26</td>\n",
       "      <td>12</td>\n",
       "      <td>1</td>\n",
       "      <td>2010</td>\n",
       "      <td>8</td>\n",
       "    </tr>\n",
       "    <tr>\n",
       "      <td>...</td>\n",
       "      <td>...</td>\n",
       "      <td>...</td>\n",
       "      <td>...</td>\n",
       "      <td>...</td>\n",
       "      <td>...</td>\n",
       "      <td>...</td>\n",
       "      <td>...</td>\n",
       "      <td>...</td>\n",
       "      <td>...</td>\n",
       "      <td>...</td>\n",
       "      <td>...</td>\n",
       "      <td>...</td>\n",
       "      <td>...</td>\n",
       "      <td>...</td>\n",
       "    </tr>\n",
       "    <tr>\n",
       "      <td>541904</td>\n",
       "      <td>581587</td>\n",
       "      <td>22613</td>\n",
       "      <td>12</td>\n",
       "      <td>12/9/2011 12:50</td>\n",
       "      <td>0.85</td>\n",
       "      <td>12680.0</td>\n",
       "      <td>France</td>\n",
       "      <td>10.20</td>\n",
       "      <td>12/9/2011</td>\n",
       "      <td>12:50</td>\n",
       "      <td>12</td>\n",
       "      <td>9</td>\n",
       "      <td>2011</td>\n",
       "      <td>12</td>\n",
       "    </tr>\n",
       "    <tr>\n",
       "      <td>541905</td>\n",
       "      <td>581587</td>\n",
       "      <td>22899</td>\n",
       "      <td>6</td>\n",
       "      <td>12/9/2011 12:50</td>\n",
       "      <td>2.10</td>\n",
       "      <td>12680.0</td>\n",
       "      <td>France</td>\n",
       "      <td>12.60</td>\n",
       "      <td>12/9/2011</td>\n",
       "      <td>12:50</td>\n",
       "      <td>12</td>\n",
       "      <td>9</td>\n",
       "      <td>2011</td>\n",
       "      <td>12</td>\n",
       "    </tr>\n",
       "    <tr>\n",
       "      <td>541906</td>\n",
       "      <td>581587</td>\n",
       "      <td>23254</td>\n",
       "      <td>4</td>\n",
       "      <td>12/9/2011 12:50</td>\n",
       "      <td>4.15</td>\n",
       "      <td>12680.0</td>\n",
       "      <td>France</td>\n",
       "      <td>16.60</td>\n",
       "      <td>12/9/2011</td>\n",
       "      <td>12:50</td>\n",
       "      <td>12</td>\n",
       "      <td>9</td>\n",
       "      <td>2011</td>\n",
       "      <td>12</td>\n",
       "    </tr>\n",
       "    <tr>\n",
       "      <td>541907</td>\n",
       "      <td>581587</td>\n",
       "      <td>23255</td>\n",
       "      <td>4</td>\n",
       "      <td>12/9/2011 12:50</td>\n",
       "      <td>4.15</td>\n",
       "      <td>12680.0</td>\n",
       "      <td>France</td>\n",
       "      <td>16.60</td>\n",
       "      <td>12/9/2011</td>\n",
       "      <td>12:50</td>\n",
       "      <td>12</td>\n",
       "      <td>9</td>\n",
       "      <td>2011</td>\n",
       "      <td>12</td>\n",
       "    </tr>\n",
       "    <tr>\n",
       "      <td>541908</td>\n",
       "      <td>581587</td>\n",
       "      <td>22138</td>\n",
       "      <td>3</td>\n",
       "      <td>12/9/2011 12:50</td>\n",
       "      <td>4.95</td>\n",
       "      <td>12680.0</td>\n",
       "      <td>France</td>\n",
       "      <td>14.85</td>\n",
       "      <td>12/9/2011</td>\n",
       "      <td>12:50</td>\n",
       "      <td>12</td>\n",
       "      <td>9</td>\n",
       "      <td>2011</td>\n",
       "      <td>12</td>\n",
       "    </tr>\n",
       "  </tbody>\n",
       "</table>\n",
       "<p>536639 rows × 14 columns</p>\n",
       "</div>"
      ],
      "text/plain": [
       "       InvoiceNo StockCode  Quantity      InvoiceDate  UnitPrice CustomerID  \\\n",
       "0         536365    85123A         6   12/1/2010 8:26       2.55    17850.0   \n",
       "1         536365     71053         6   12/1/2010 8:26       3.39    17850.0   \n",
       "2         536365    84406B         8   12/1/2010 8:26       2.75    17850.0   \n",
       "3         536365    84029G         6   12/1/2010 8:26       3.39    17850.0   \n",
       "4         536365    84029E         6   12/1/2010 8:26       3.39    17850.0   \n",
       "...          ...       ...       ...              ...        ...        ...   \n",
       "541904    581587     22613        12  12/9/2011 12:50       0.85    12680.0   \n",
       "541905    581587     22899         6  12/9/2011 12:50       2.10    12680.0   \n",
       "541906    581587     23254         4  12/9/2011 12:50       4.15    12680.0   \n",
       "541907    581587     23255         4  12/9/2011 12:50       4.15    12680.0   \n",
       "541908    581587     22138         3  12/9/2011 12:50       4.95    12680.0   \n",
       "\n",
       "               Country  Total       Date   Time Month Day  Year  Hour  \n",
       "0       United Kingdom  15.30  12/1/2010   8:26    12   1  2010     8  \n",
       "1       United Kingdom  20.34  12/1/2010   8:26    12   1  2010     8  \n",
       "2       United Kingdom  22.00  12/1/2010   8:26    12   1  2010     8  \n",
       "3       United Kingdom  20.34  12/1/2010   8:26    12   1  2010     8  \n",
       "4       United Kingdom  20.34  12/1/2010   8:26    12   1  2010     8  \n",
       "...                ...    ...        ...    ...   ...  ..   ...   ...  \n",
       "541904          France  10.20  12/9/2011  12:50    12   9  2011    12  \n",
       "541905          France  12.60  12/9/2011  12:50    12   9  2011    12  \n",
       "541906          France  16.60  12/9/2011  12:50    12   9  2011    12  \n",
       "541907          France  16.60  12/9/2011  12:50    12   9  2011    12  \n",
       "541908          France  14.85  12/9/2011  12:50    12   9  2011    12  \n",
       "\n",
       "[536639 rows x 14 columns]"
      ]
     },
     "execution_count": 132,
     "metadata": {},
     "output_type": "execute_result"
    }
   ],
   "source": [
    "df1[\"Total\"]=df1[\"Quantity\"]*df1[\"UnitPrice\"]\n",
    "df1[[\"Date\",\"Time\"]]=df1[\"InvoiceDate\"].str.split(\" \",expand=True)\n",
    "df1[[\"Month\",\"Day\",\"Year\"]] = df1[\"Date\"].str.split(\"/\",expand=True)\n",
    "df1[\"Hour\"]=df1[\"Time\"].str.split(\":\",expand=True)[0].astype(\"int\")\n",
    "df1"
   ]
  },
  {
   "cell_type": "code",
   "execution_count": 133,
   "metadata": {
    "ExecuteTime": {
     "end_time": "2021-07-23T07:55:36.788612Z",
     "start_time": "2021-07-23T07:55:36.285366Z"
    }
   },
   "outputs": [],
   "source": [
    "#将全部数据分为数量>=0的购买数据和数量<0的退货数据\n",
    "data_buy = df1[df1[\"Quantity\"] >= 0]\n",
    "data_return = df1[df1[\"Quantity\"] < 0]"
   ]
  },
  {
   "cell_type": "markdown",
   "metadata": {},
   "source": [
    "## 帮助函数"
   ]
  },
  {
   "cell_type": "code",
   "execution_count": 142,
   "metadata": {
    "ExecuteTime": {
     "end_time": "2021-07-23T07:56:44.264792Z",
     "start_time": "2021-07-23T07:56:44.245852Z"
    }
   },
   "outputs": [],
   "source": [
    "def dist_cum_p(gp, bins):\n",
    "    gp_dist = pd.cut(gp,bins=bins).value_counts().sort_index()\n",
    "    tmp1 = gp_dist/gp_dist.sum()\n",
    "    tmp2 = gp_dist.cumsum()/gp_dist.sum()\n",
    "    dist_cum_p = pd.concat([tmp1,tmp2], axis=1)\n",
    "    dist_cum_p.columns=['bin_%', 'bin_%_cum']\n",
    "    return dist_cum_p"
   ]
  },
  {
   "cell_type": "markdown",
   "metadata": {},
   "source": [
    "## 商品维度分析\n",
    "### 最热卖的产品是哪些？退货最多的产品是哪些？"
   ]
  },
  {
   "cell_type": "code",
   "execution_count": 135,
   "metadata": {
    "ExecuteTime": {
     "end_time": "2021-07-23T07:55:36.913280Z",
     "start_time": "2021-07-23T07:55:36.804575Z"
    }
   },
   "outputs": [
    {
     "data": {
      "text/html": [
       "<div>\n",
       "<style scoped>\n",
       "    .dataframe tbody tr th:only-of-type {\n",
       "        vertical-align: middle;\n",
       "    }\n",
       "\n",
       "    .dataframe tbody tr th {\n",
       "        vertical-align: top;\n",
       "    }\n",
       "\n",
       "    .dataframe thead th {\n",
       "        text-align: right;\n",
       "    }\n",
       "</style>\n",
       "<table border=\"1\" class=\"dataframe\">\n",
       "  <thead>\n",
       "    <tr style=\"text-align: right;\">\n",
       "      <th></th>\n",
       "      <th>InvoiceNo</th>\n",
       "      <th>StockCode</th>\n",
       "      <th>Quantity</th>\n",
       "      <th>InvoiceDate</th>\n",
       "      <th>UnitPrice</th>\n",
       "      <th>CustomerID</th>\n",
       "      <th>Country</th>\n",
       "      <th>Total</th>\n",
       "      <th>Date</th>\n",
       "      <th>Time</th>\n",
       "      <th>Month</th>\n",
       "      <th>Day</th>\n",
       "      <th>Year</th>\n",
       "      <th>Hour</th>\n",
       "    </tr>\n",
       "  </thead>\n",
       "  <tbody>\n",
       "    <tr>\n",
       "      <td>0</td>\n",
       "      <td>536365</td>\n",
       "      <td>85123A</td>\n",
       "      <td>6</td>\n",
       "      <td>12/1/2010 8:26</td>\n",
       "      <td>2.55</td>\n",
       "      <td>17850.0</td>\n",
       "      <td>United Kingdom</td>\n",
       "      <td>15.30</td>\n",
       "      <td>12/1/2010</td>\n",
       "      <td>8:26</td>\n",
       "      <td>12</td>\n",
       "      <td>1</td>\n",
       "      <td>2010</td>\n",
       "      <td>8</td>\n",
       "    </tr>\n",
       "    <tr>\n",
       "      <td>1</td>\n",
       "      <td>536365</td>\n",
       "      <td>71053</td>\n",
       "      <td>6</td>\n",
       "      <td>12/1/2010 8:26</td>\n",
       "      <td>3.39</td>\n",
       "      <td>17850.0</td>\n",
       "      <td>United Kingdom</td>\n",
       "      <td>20.34</td>\n",
       "      <td>12/1/2010</td>\n",
       "      <td>8:26</td>\n",
       "      <td>12</td>\n",
       "      <td>1</td>\n",
       "      <td>2010</td>\n",
       "      <td>8</td>\n",
       "    </tr>\n",
       "    <tr>\n",
       "      <td>2</td>\n",
       "      <td>536365</td>\n",
       "      <td>84406B</td>\n",
       "      <td>8</td>\n",
       "      <td>12/1/2010 8:26</td>\n",
       "      <td>2.75</td>\n",
       "      <td>17850.0</td>\n",
       "      <td>United Kingdom</td>\n",
       "      <td>22.00</td>\n",
       "      <td>12/1/2010</td>\n",
       "      <td>8:26</td>\n",
       "      <td>12</td>\n",
       "      <td>1</td>\n",
       "      <td>2010</td>\n",
       "      <td>8</td>\n",
       "    </tr>\n",
       "    <tr>\n",
       "      <td>3</td>\n",
       "      <td>536365</td>\n",
       "      <td>84029G</td>\n",
       "      <td>6</td>\n",
       "      <td>12/1/2010 8:26</td>\n",
       "      <td>3.39</td>\n",
       "      <td>17850.0</td>\n",
       "      <td>United Kingdom</td>\n",
       "      <td>20.34</td>\n",
       "      <td>12/1/2010</td>\n",
       "      <td>8:26</td>\n",
       "      <td>12</td>\n",
       "      <td>1</td>\n",
       "      <td>2010</td>\n",
       "      <td>8</td>\n",
       "    </tr>\n",
       "    <tr>\n",
       "      <td>4</td>\n",
       "      <td>536365</td>\n",
       "      <td>84029E</td>\n",
       "      <td>6</td>\n",
       "      <td>12/1/2010 8:26</td>\n",
       "      <td>3.39</td>\n",
       "      <td>17850.0</td>\n",
       "      <td>United Kingdom</td>\n",
       "      <td>20.34</td>\n",
       "      <td>12/1/2010</td>\n",
       "      <td>8:26</td>\n",
       "      <td>12</td>\n",
       "      <td>1</td>\n",
       "      <td>2010</td>\n",
       "      <td>8</td>\n",
       "    </tr>\n",
       "    <tr>\n",
       "      <td>...</td>\n",
       "      <td>...</td>\n",
       "      <td>...</td>\n",
       "      <td>...</td>\n",
       "      <td>...</td>\n",
       "      <td>...</td>\n",
       "      <td>...</td>\n",
       "      <td>...</td>\n",
       "      <td>...</td>\n",
       "      <td>...</td>\n",
       "      <td>...</td>\n",
       "      <td>...</td>\n",
       "      <td>...</td>\n",
       "      <td>...</td>\n",
       "      <td>...</td>\n",
       "    </tr>\n",
       "    <tr>\n",
       "      <td>541904</td>\n",
       "      <td>581587</td>\n",
       "      <td>22613</td>\n",
       "      <td>12</td>\n",
       "      <td>12/9/2011 12:50</td>\n",
       "      <td>0.85</td>\n",
       "      <td>12680.0</td>\n",
       "      <td>France</td>\n",
       "      <td>10.20</td>\n",
       "      <td>12/9/2011</td>\n",
       "      <td>12:50</td>\n",
       "      <td>12</td>\n",
       "      <td>9</td>\n",
       "      <td>2011</td>\n",
       "      <td>12</td>\n",
       "    </tr>\n",
       "    <tr>\n",
       "      <td>541905</td>\n",
       "      <td>581587</td>\n",
       "      <td>22899</td>\n",
       "      <td>6</td>\n",
       "      <td>12/9/2011 12:50</td>\n",
       "      <td>2.10</td>\n",
       "      <td>12680.0</td>\n",
       "      <td>France</td>\n",
       "      <td>12.60</td>\n",
       "      <td>12/9/2011</td>\n",
       "      <td>12:50</td>\n",
       "      <td>12</td>\n",
       "      <td>9</td>\n",
       "      <td>2011</td>\n",
       "      <td>12</td>\n",
       "    </tr>\n",
       "    <tr>\n",
       "      <td>541906</td>\n",
       "      <td>581587</td>\n",
       "      <td>23254</td>\n",
       "      <td>4</td>\n",
       "      <td>12/9/2011 12:50</td>\n",
       "      <td>4.15</td>\n",
       "      <td>12680.0</td>\n",
       "      <td>France</td>\n",
       "      <td>16.60</td>\n",
       "      <td>12/9/2011</td>\n",
       "      <td>12:50</td>\n",
       "      <td>12</td>\n",
       "      <td>9</td>\n",
       "      <td>2011</td>\n",
       "      <td>12</td>\n",
       "    </tr>\n",
       "    <tr>\n",
       "      <td>541907</td>\n",
       "      <td>581587</td>\n",
       "      <td>23255</td>\n",
       "      <td>4</td>\n",
       "      <td>12/9/2011 12:50</td>\n",
       "      <td>4.15</td>\n",
       "      <td>12680.0</td>\n",
       "      <td>France</td>\n",
       "      <td>16.60</td>\n",
       "      <td>12/9/2011</td>\n",
       "      <td>12:50</td>\n",
       "      <td>12</td>\n",
       "      <td>9</td>\n",
       "      <td>2011</td>\n",
       "      <td>12</td>\n",
       "    </tr>\n",
       "    <tr>\n",
       "      <td>541908</td>\n",
       "      <td>581587</td>\n",
       "      <td>22138</td>\n",
       "      <td>3</td>\n",
       "      <td>12/9/2011 12:50</td>\n",
       "      <td>4.95</td>\n",
       "      <td>12680.0</td>\n",
       "      <td>France</td>\n",
       "      <td>14.85</td>\n",
       "      <td>12/9/2011</td>\n",
       "      <td>12:50</td>\n",
       "      <td>12</td>\n",
       "      <td>9</td>\n",
       "      <td>2011</td>\n",
       "      <td>12</td>\n",
       "    </tr>\n",
       "  </tbody>\n",
       "</table>\n",
       "<p>536639 rows × 14 columns</p>\n",
       "</div>"
      ],
      "text/plain": [
       "       InvoiceNo StockCode  Quantity      InvoiceDate  UnitPrice CustomerID  \\\n",
       "0         536365    85123A         6   12/1/2010 8:26       2.55    17850.0   \n",
       "1         536365     71053         6   12/1/2010 8:26       3.39    17850.0   \n",
       "2         536365    84406B         8   12/1/2010 8:26       2.75    17850.0   \n",
       "3         536365    84029G         6   12/1/2010 8:26       3.39    17850.0   \n",
       "4         536365    84029E         6   12/1/2010 8:26       3.39    17850.0   \n",
       "...          ...       ...       ...              ...        ...        ...   \n",
       "541904    581587     22613        12  12/9/2011 12:50       0.85    12680.0   \n",
       "541905    581587     22899         6  12/9/2011 12:50       2.10    12680.0   \n",
       "541906    581587     23254         4  12/9/2011 12:50       4.15    12680.0   \n",
       "541907    581587     23255         4  12/9/2011 12:50       4.15    12680.0   \n",
       "541908    581587     22138         3  12/9/2011 12:50       4.95    12680.0   \n",
       "\n",
       "               Country  Total       Date   Time Month Day  Year  Hour  \n",
       "0       United Kingdom  15.30  12/1/2010   8:26    12   1  2010     8  \n",
       "1       United Kingdom  20.34  12/1/2010   8:26    12   1  2010     8  \n",
       "2       United Kingdom  22.00  12/1/2010   8:26    12   1  2010     8  \n",
       "3       United Kingdom  20.34  12/1/2010   8:26    12   1  2010     8  \n",
       "4       United Kingdom  20.34  12/1/2010   8:26    12   1  2010     8  \n",
       "...                ...    ...        ...    ...   ...  ..   ...   ...  \n",
       "541904          France  10.20  12/9/2011  12:50    12   9  2011    12  \n",
       "541905          France  12.60  12/9/2011  12:50    12   9  2011    12  \n",
       "541906          France  16.60  12/9/2011  12:50    12   9  2011    12  \n",
       "541907          France  16.60  12/9/2011  12:50    12   9  2011    12  \n",
       "541908          France  14.85  12/9/2011  12:50    12   9  2011    12  \n",
       "\n",
       "[536639 rows x 14 columns]"
      ]
     },
     "execution_count": 135,
     "metadata": {},
     "output_type": "execute_result"
    }
   ],
   "source": [
    "df2 = df1.copy()\n",
    "df2"
   ]
  },
  {
   "cell_type": "code",
   "execution_count": 136,
   "metadata": {
    "ExecuteTime": {
     "end_time": "2021-07-23T07:55:37.008027Z",
     "start_time": "2021-07-23T07:55:36.916274Z"
    }
   },
   "outputs": [
    {
     "data": {
      "text/plain": [
       "StockCode\n",
       "22197     56427\n",
       "84077     53751\n",
       "85099B    47260\n",
       "85123A    38811\n",
       "84879     36122\n",
       "21212     36016\n",
       "23084     30597\n",
       "22492     26437\n",
       "22616     26299\n",
       "21977     24719\n",
       "Name: Quantity, dtype: int64"
      ]
     },
     "execution_count": 136,
     "metadata": {},
     "output_type": "execute_result"
    }
   ],
   "source": [
    "product_quantity = df2[\"Quantity\"].groupby(df2[\"StockCode\"]).sum().sort_values(ascending=False)\n",
    "product_quantity.head(10)"
   ]
  },
  {
   "cell_type": "code",
   "execution_count": 137,
   "metadata": {
    "ExecuteTime": {
     "end_time": "2021-07-23T07:55:37.023985Z",
     "start_time": "2021-07-23T07:55:37.010031Z"
    }
   },
   "outputs": [
    {
     "data": {
      "text/plain": [
       "StockCode\n",
       "22618      -1632\n",
       "79323B     -1671\n",
       "79323P     -2007\n",
       "23059      -2376\n",
       "72732      -2472\n",
       "79323LP    -2618\n",
       "79323W     -4838\n",
       "72140F     -5368\n",
       "23003      -8516\n",
       "23005     -14468\n",
       "Name: Quantity, dtype: int64"
      ]
     },
     "execution_count": 137,
     "metadata": {},
     "output_type": "execute_result"
    }
   ],
   "source": [
    "product_quantity.tail(10)"
   ]
  },
  {
   "cell_type": "markdown",
   "metadata": {},
   "source": [
    "### 商品的价格分布如何？价格与销量有何关系？"
   ]
  },
  {
   "cell_type": "code",
   "execution_count": 138,
   "metadata": {
    "ExecuteTime": {
     "end_time": "2021-07-23T07:55:37.070859Z",
     "start_time": "2021-07-23T07:55:37.026990Z"
    }
   },
   "outputs": [
    {
     "data": {
      "text/plain": [
       "count    536639.000000\n",
       "mean          4.673900\n",
       "std          94.857114\n",
       "min           0.000000\n",
       "25%           1.250000\n",
       "50%           2.080000\n",
       "75%           4.130000\n",
       "max       38970.000000\n",
       "Name: UnitPrice, dtype: float64"
      ]
     },
     "execution_count": 138,
     "metadata": {},
     "output_type": "execute_result"
    }
   ],
   "source": [
    "df2.UnitPrice.describe()"
   ]
  },
  {
   "cell_type": "code",
   "execution_count": 139,
   "metadata": {
    "ExecuteTime": {
     "end_time": "2021-07-23T07:55:37.165620Z",
     "start_time": "2021-07-23T07:55:37.072854Z"
    }
   },
   "outputs": [
    {
     "data": {
      "text/plain": [
       "count     4070.000000\n",
       "mean         6.905278\n",
       "std        173.775142\n",
       "min          0.000000\n",
       "25%          1.250000\n",
       "50%          2.510000\n",
       "75%          4.250000\n",
       "max      11062.060000\n",
       "Name: UnitPrice, dtype: float64"
      ]
     },
     "execution_count": 139,
     "metadata": {},
     "output_type": "execute_result"
    }
   ],
   "source": [
    "data_unique_stock=df2.drop_duplicates([\"StockCode\"])\n",
    "data_unique_stock[\"UnitPrice\"].describe()"
   ]
  },
  {
   "cell_type": "markdown",
   "metadata": {},
   "source": [
    "该电商网站以销售低价商品为主。商品价格的中位数远大于平均数，是一个右偏分布，即该网站售卖的绝大部分都是低价商品，极少部分商品价格高昂，导致商品价格的标准差较大。"
   ]
  },
  {
   "cell_type": "code",
   "execution_count": 144,
   "metadata": {
    "ExecuteTime": {
     "end_time": "2021-07-23T07:57:05.861718Z",
     "start_time": "2021-07-23T07:57:05.829799Z"
    }
   },
   "outputs": [
    {
     "data": {
      "text/html": [
       "<div>\n",
       "<style scoped>\n",
       "    .dataframe tbody tr th:only-of-type {\n",
       "        vertical-align: middle;\n",
       "    }\n",
       "\n",
       "    .dataframe tbody tr th {\n",
       "        vertical-align: top;\n",
       "    }\n",
       "\n",
       "    .dataframe thead th {\n",
       "        text-align: right;\n",
       "    }\n",
       "</style>\n",
       "<table border=\"1\" class=\"dataframe\">\n",
       "  <thead>\n",
       "    <tr style=\"text-align: right;\">\n",
       "      <th></th>\n",
       "      <th>bin_%</th>\n",
       "      <th>bin_%_cum</th>\n",
       "    </tr>\n",
       "  </thead>\n",
       "  <tbody>\n",
       "    <tr>\n",
       "      <td>(0, 1]</td>\n",
       "      <td>0.181323</td>\n",
       "      <td>0.181323</td>\n",
       "    </tr>\n",
       "    <tr>\n",
       "      <td>(1, 2]</td>\n",
       "      <td>0.231907</td>\n",
       "      <td>0.413230</td>\n",
       "    </tr>\n",
       "    <tr>\n",
       "      <td>(2, 3]</td>\n",
       "      <td>0.190143</td>\n",
       "      <td>0.603372</td>\n",
       "    </tr>\n",
       "    <tr>\n",
       "      <td>(3, 4]</td>\n",
       "      <td>0.078859</td>\n",
       "      <td>0.682231</td>\n",
       "    </tr>\n",
       "    <tr>\n",
       "      <td>(4, 5]</td>\n",
       "      <td>0.089235</td>\n",
       "      <td>0.771466</td>\n",
       "    </tr>\n",
       "    <tr>\n",
       "      <td>(5, 6]</td>\n",
       "      <td>0.050324</td>\n",
       "      <td>0.821790</td>\n",
       "    </tr>\n",
       "    <tr>\n",
       "      <td>(6, 7]</td>\n",
       "      <td>0.023606</td>\n",
       "      <td>0.845396</td>\n",
       "    </tr>\n",
       "    <tr>\n",
       "      <td>(7, 10]</td>\n",
       "      <td>0.087419</td>\n",
       "      <td>0.932815</td>\n",
       "    </tr>\n",
       "    <tr>\n",
       "      <td>(10, 15]</td>\n",
       "      <td>0.037095</td>\n",
       "      <td>0.969909</td>\n",
       "    </tr>\n",
       "    <tr>\n",
       "      <td>(15, 20]</td>\n",
       "      <td>0.012970</td>\n",
       "      <td>0.982879</td>\n",
       "    </tr>\n",
       "    <tr>\n",
       "      <td>(20, 25]</td>\n",
       "      <td>0.004150</td>\n",
       "      <td>0.987030</td>\n",
       "    </tr>\n",
       "    <tr>\n",
       "      <td>(25, 30]</td>\n",
       "      <td>0.004929</td>\n",
       "      <td>0.991958</td>\n",
       "    </tr>\n",
       "    <tr>\n",
       "      <td>(30, 100]</td>\n",
       "      <td>0.005966</td>\n",
       "      <td>0.997925</td>\n",
       "    </tr>\n",
       "    <tr>\n",
       "      <td>(100, 10000]</td>\n",
       "      <td>0.001816</td>\n",
       "      <td>0.999741</td>\n",
       "    </tr>\n",
       "    <tr>\n",
       "      <td>(10000, 20000]</td>\n",
       "      <td>0.000259</td>\n",
       "      <td>1.000000</td>\n",
       "    </tr>\n",
       "    <tr>\n",
       "      <td>(20000, 30000]</td>\n",
       "      <td>0.000000</td>\n",
       "      <td>1.000000</td>\n",
       "    </tr>\n",
       "    <tr>\n",
       "      <td>(30000, 40000]</td>\n",
       "      <td>0.000000</td>\n",
       "      <td>1.000000</td>\n",
       "    </tr>\n",
       "  </tbody>\n",
       "</table>\n",
       "</div>"
      ],
      "text/plain": [
       "                   bin_%  bin_%_cum\n",
       "(0, 1]          0.181323   0.181323\n",
       "(1, 2]          0.231907   0.413230\n",
       "(2, 3]          0.190143   0.603372\n",
       "(3, 4]          0.078859   0.682231\n",
       "(4, 5]          0.089235   0.771466\n",
       "(5, 6]          0.050324   0.821790\n",
       "(6, 7]          0.023606   0.845396\n",
       "(7, 10]         0.087419   0.932815\n",
       "(10, 15]        0.037095   0.969909\n",
       "(15, 20]        0.012970   0.982879\n",
       "(20, 25]        0.004150   0.987030\n",
       "(25, 30]        0.004929   0.991958\n",
       "(30, 100]       0.005966   0.997925\n",
       "(100, 10000]    0.001816   0.999741\n",
       "(10000, 20000]  0.000259   1.000000\n",
       "(20000, 30000]  0.000000   1.000000\n",
       "(30000, 40000]  0.000000   1.000000"
      ]
     },
     "execution_count": 144,
     "metadata": {},
     "output_type": "execute_result"
    }
   ],
   "source": [
    "#分组的区间，左开右闭\n",
    "bins = [0,1,2,3,4,5,6,7,10,15,20,25,30,100,10000,20000,30000,40000]\n",
    "\n",
    "# price_bin=pd.cut(data_unique_stock[\"UnitPrice\"],bins=bins).value_counts().sort_index()\n",
    "# price_per=price_bin/price_bin.sum()\n",
    "# price_cumper=price_bin.cumsum()/price_bin.sum()\n",
    "# price_dist = pd.concat([price_per,price_cumper],axis=1)\n",
    "# price_dist.columns=['bin_%', 'bin_%_cum']\n",
    "price_dist = dist_cum_p(data_unique_stock[\"UnitPrice\"], bins)\n",
    "price_dist"
   ]
  },
  {
   "cell_type": "code",
   "execution_count": 145,
   "metadata": {
    "ExecuteTime": {
     "end_time": "2021-07-23T07:57:22.189954Z",
     "start_time": "2021-07-23T07:57:22.043339Z"
    }
   },
   "outputs": [
    {
     "data": {
      "text/plain": [
       "<matplotlib.axes._subplots.AxesSubplot at 0x265232a8108>"
      ]
     },
     "execution_count": 145,
     "metadata": {},
     "output_type": "execute_result"
    },
    {
     "data": {
      "image/png": "[encoded data removed]",
      "text/plain": [
       "<Figure size 432x288 with 1 Axes>"
      ]
     },
     "metadata": {},
     "output_type": "display_data"
    }
   ],
   "source": [
    "price_dist['bin_%_cum'].plot()"
   ]
  },
  {
   "cell_type": "markdown",
   "metadata": {},
   "source": [
    "具体来看，商品价格在（1，2]的价格区间里是最多的,占23.19%；商品价格在10元以内的占了93.28%，在100元以内的占了99.79%。"
   ]
  },
  {
   "cell_type": "code",
   "execution_count": 151,
   "metadata": {
    "ExecuteTime": {
     "end_time": "2021-07-23T08:01:45.251621Z",
     "start_time": "2021-07-23T08:01:45.179782Z"
    }
   },
   "outputs": [
    {
     "data": {
      "text/html": [
       "<div>\n",
       "<style scoped>\n",
       "    .dataframe tbody tr th:only-of-type {\n",
       "        vertical-align: middle;\n",
       "    }\n",
       "\n",
       "    .dataframe tbody tr th {\n",
       "        vertical-align: top;\n",
       "    }\n",
       "\n",
       "    .dataframe thead th {\n",
       "        text-align: right;\n",
       "    }\n",
       "</style>\n",
       "<table border=\"1\" class=\"dataframe\">\n",
       "  <thead>\n",
       "    <tr style=\"text-align: right;\">\n",
       "      <th></th>\n",
       "      <th>Quantity</th>\n",
       "      <th>Quantity</th>\n",
       "    </tr>\n",
       "    <tr>\n",
       "      <th>UnitPrice</th>\n",
       "      <th></th>\n",
       "      <th></th>\n",
       "    </tr>\n",
       "  </thead>\n",
       "  <tbody>\n",
       "    <tr>\n",
       "      <td>(0, 1]</td>\n",
       "      <td>0.391176</td>\n",
       "      <td>0.391176</td>\n",
       "    </tr>\n",
       "    <tr>\n",
       "      <td>(1, 2]</td>\n",
       "      <td>0.325631</td>\n",
       "      <td>0.716807</td>\n",
       "    </tr>\n",
       "    <tr>\n",
       "      <td>(2, 3]</td>\n",
       "      <td>0.138467</td>\n",
       "      <td>0.855274</td>\n",
       "    </tr>\n",
       "    <tr>\n",
       "      <td>(3, 4]</td>\n",
       "      <td>0.045130</td>\n",
       "      <td>0.900404</td>\n",
       "    </tr>\n",
       "    <tr>\n",
       "      <td>(4, 5]</td>\n",
       "      <td>0.049966</td>\n",
       "      <td>0.950371</td>\n",
       "    </tr>\n",
       "    <tr>\n",
       "      <td>(5, 6]</td>\n",
       "      <td>0.012429</td>\n",
       "      <td>0.962799</td>\n",
       "    </tr>\n",
       "    <tr>\n",
       "      <td>(6, 7]</td>\n",
       "      <td>0.007366</td>\n",
       "      <td>0.970165</td>\n",
       "    </tr>\n",
       "    <tr>\n",
       "      <td>(7, 10]</td>\n",
       "      <td>0.018653</td>\n",
       "      <td>0.988818</td>\n",
       "    </tr>\n",
       "    <tr>\n",
       "      <td>(10, 15]</td>\n",
       "      <td>0.008341</td>\n",
       "      <td>0.997159</td>\n",
       "    </tr>\n",
       "    <tr>\n",
       "      <td>(15, 20]</td>\n",
       "      <td>0.001720</td>\n",
       "      <td>0.998879</td>\n",
       "    </tr>\n",
       "    <tr>\n",
       "      <td>(20, 25]</td>\n",
       "      <td>0.000528</td>\n",
       "      <td>0.999407</td>\n",
       "    </tr>\n",
       "    <tr>\n",
       "      <td>(25, 30]</td>\n",
       "      <td>0.000199</td>\n",
       "      <td>0.999606</td>\n",
       "    </tr>\n",
       "    <tr>\n",
       "      <td>(30, 100]</td>\n",
       "      <td>0.000262</td>\n",
       "      <td>0.999869</td>\n",
       "    </tr>\n",
       "    <tr>\n",
       "      <td>(100, 10000]</td>\n",
       "      <td>0.000133</td>\n",
       "      <td>1.000001</td>\n",
       "    </tr>\n",
       "    <tr>\n",
       "      <td>(10000, 20000]</td>\n",
       "      <td>-0.000001</td>\n",
       "      <td>1.000000</td>\n",
       "    </tr>\n",
       "    <tr>\n",
       "      <td>(20000, 30000]</td>\n",
       "      <td>0.000000</td>\n",
       "      <td>1.000000</td>\n",
       "    </tr>\n",
       "    <tr>\n",
       "      <td>(30000, 40000]</td>\n",
       "      <td>-0.000000</td>\n",
       "      <td>1.000000</td>\n",
       "    </tr>\n",
       "  </tbody>\n",
       "</table>\n",
       "</div>"
      ],
      "text/plain": [
       "                Quantity  Quantity\n",
       "UnitPrice                         \n",
       "(0, 1]          0.391176  0.391176\n",
       "(1, 2]          0.325631  0.716807\n",
       "(2, 3]          0.138467  0.855274\n",
       "(3, 4]          0.045130  0.900404\n",
       "(4, 5]          0.049966  0.950371\n",
       "(5, 6]          0.012429  0.962799\n",
       "(6, 7]          0.007366  0.970165\n",
       "(7, 10]         0.018653  0.988818\n",
       "(10, 15]        0.008341  0.997159\n",
       "(15, 20]        0.001720  0.998879\n",
       "(20, 25]        0.000528  0.999407\n",
       "(25, 30]        0.000199  0.999606\n",
       "(30, 100]       0.000262  0.999869\n",
       "(100, 10000]    0.000133  1.000001\n",
       "(10000, 20000] -0.000001  1.000000\n",
       "(20000, 30000]  0.000000  1.000000\n",
       "(30000, 40000] -0.000000  1.000000"
      ]
     },
     "execution_count": 151,
     "metadata": {},
     "output_type": "execute_result"
    }
   ],
   "source": [
    "cut=pd.cut(df2[\"UnitPrice\"],bins=bins)\n",
    "quantity_price=df2[\"Quantity\"].groupby(cut).sum()\n",
    "qpd = round(quantity_price/quantity_price.sum(),6)\n",
    "quant_price_dist = quantity_price.cumsum()/quantity_price.sum()\n",
    "qpdp = pd.concat([qpd,quant_price_dist],axis=1)\n",
    "qpdp"
   ]
  },
  {
   "cell_type": "code",
   "execution_count": 158,
   "metadata": {
    "ExecuteTime": {
     "end_time": "2021-07-23T08:05:35.629959Z",
     "start_time": "2021-07-23T08:05:35.477335Z"
    }
   },
   "outputs": [
    {
     "data": {
      "text/plain": [
       "<matplotlib.axes._subplots.AxesSubplot at 0x265340a9348>"
      ]
     },
     "execution_count": 158,
     "metadata": {},
     "output_type": "execute_result"
    },
    {
     "data": {
      "image/png": "[encoded data removed]",
      "text/plain": [
       "<Figure size 432x288 with 1 Axes>"
      ]
     },
     "metadata": {},
     "output_type": "display_data"
    }
   ],
   "source": [
    "quant_price_dist.plot()"
   ]
  },
  {
   "cell_type": "markdown",
   "metadata": {},
   "source": [
    "71.68%的商品销量集中在价格在2元以内的商品；99.7%的商品销量集中的价格在15元以内的商品。"
   ]
  },
  {
   "cell_type": "markdown",
   "metadata": {},
   "source": [
    "### 退货商品的价格分布与退货量情况是怎样的？"
   ]
  },
  {
   "cell_type": "code",
   "execution_count": 156,
   "metadata": {
    "ExecuteTime": {
     "end_time": "2021-07-23T08:04:44.954055Z",
     "start_time": "2021-07-23T08:04:44.923137Z"
    }
   },
   "outputs": [
    {
     "data": {
      "text/html": [
       "<div>\n",
       "<style scoped>\n",
       "    .dataframe tbody tr th:only-of-type {\n",
       "        vertical-align: middle;\n",
       "    }\n",
       "\n",
       "    .dataframe tbody tr th {\n",
       "        vertical-align: top;\n",
       "    }\n",
       "\n",
       "    .dataframe thead th {\n",
       "        text-align: right;\n",
       "    }\n",
       "</style>\n",
       "<table border=\"1\" class=\"dataframe\">\n",
       "  <thead>\n",
       "    <tr style=\"text-align: right;\">\n",
       "      <th></th>\n",
       "      <th>bin_%</th>\n",
       "      <th>bin_%_cum</th>\n",
       "    </tr>\n",
       "  </thead>\n",
       "  <tbody>\n",
       "    <tr>\n",
       "      <td>(0, 1]</td>\n",
       "      <td>0.227027</td>\n",
       "      <td>0.227027</td>\n",
       "    </tr>\n",
       "    <tr>\n",
       "      <td>(1, 2]</td>\n",
       "      <td>0.283243</td>\n",
       "      <td>0.510270</td>\n",
       "    </tr>\n",
       "    <tr>\n",
       "      <td>(2, 3]</td>\n",
       "      <td>0.172432</td>\n",
       "      <td>0.682703</td>\n",
       "    </tr>\n",
       "    <tr>\n",
       "      <td>(3, 4]</td>\n",
       "      <td>0.070270</td>\n",
       "      <td>0.752973</td>\n",
       "    </tr>\n",
       "    <tr>\n",
       "      <td>(4, 5]</td>\n",
       "      <td>0.079459</td>\n",
       "      <td>0.832432</td>\n",
       "    </tr>\n",
       "    <tr>\n",
       "      <td>(5, 10]</td>\n",
       "      <td>0.122162</td>\n",
       "      <td>0.954595</td>\n",
       "    </tr>\n",
       "    <tr>\n",
       "      <td>(10, 15]</td>\n",
       "      <td>0.027027</td>\n",
       "      <td>0.981622</td>\n",
       "    </tr>\n",
       "    <tr>\n",
       "      <td>(15, 20]</td>\n",
       "      <td>0.006486</td>\n",
       "      <td>0.988108</td>\n",
       "    </tr>\n",
       "    <tr>\n",
       "      <td>(20, 50]</td>\n",
       "      <td>0.007027</td>\n",
       "      <td>0.995135</td>\n",
       "    </tr>\n",
       "    <tr>\n",
       "      <td>(50, 100]</td>\n",
       "      <td>0.002703</td>\n",
       "      <td>0.997838</td>\n",
       "    </tr>\n",
       "    <tr>\n",
       "      <td>(100, 200]</td>\n",
       "      <td>0.001081</td>\n",
       "      <td>0.998919</td>\n",
       "    </tr>\n",
       "    <tr>\n",
       "      <td>(200, 500]</td>\n",
       "      <td>0.000541</td>\n",
       "      <td>0.999459</td>\n",
       "    </tr>\n",
       "    <tr>\n",
       "      <td>(500, 1000]</td>\n",
       "      <td>0.000541</td>\n",
       "      <td>1.000000</td>\n",
       "    </tr>\n",
       "  </tbody>\n",
       "</table>\n",
       "</div>"
      ],
      "text/plain": [
       "                bin_%  bin_%_cum\n",
       "(0, 1]       0.227027   0.227027\n",
       "(1, 2]       0.283243   0.510270\n",
       "(2, 3]       0.172432   0.682703\n",
       "(3, 4]       0.070270   0.752973\n",
       "(4, 5]       0.079459   0.832432\n",
       "(5, 10]      0.122162   0.954595\n",
       "(10, 15]     0.027027   0.981622\n",
       "(15, 20]     0.006486   0.988108\n",
       "(20, 50]     0.007027   0.995135\n",
       "(50, 100]    0.002703   0.997838\n",
       "(100, 200]   0.001081   0.998919\n",
       "(200, 500]   0.000541   0.999459\n",
       "(500, 1000]  0.000541   1.000000"
      ]
     },
     "execution_count": 156,
     "metadata": {},
     "output_type": "execute_result"
    }
   ],
   "source": [
    "data_return_unique_stock=data_return.drop_duplicates(\"StockCode\")\n",
    "# return_cut=pd.cut(data_return_unique_stock[\"UnitPrice\"],bins=[0,1,2,3,4,5,10,15,20,50,100,200,500,1000]).value_counts().sort_index()\n",
    "# pd.concat([return_cut/return_cut.sum(),return_cut.cumsum()/return_cut.sum()],axis=1)\n",
    "\n",
    "bins_3=[0,1,2,3,4,5,10,15,20,50,100,200,500,1000]\n",
    "return_dist = dist_cum_p(data_return_unique_stock[\"UnitPrice\"], bins_3)\n",
    "return_dist"
   ]
  },
  {
   "cell_type": "markdown",
   "metadata": {},
   "source": [
    "退货商品最多的价格区间是（1，2]元，退货商品价格在10元以内的占了95.46%。"
   ]
  },
  {
   "cell_type": "code",
   "execution_count": 161,
   "metadata": {
    "ExecuteTime": {
     "end_time": "2021-07-23T08:06:35.214814Z",
     "start_time": "2021-07-23T08:06:35.074156Z"
    }
   },
   "outputs": [
    {
     "data": {
      "text/plain": [
       "<matplotlib.axes._subplots.AxesSubplot at 0x2653394d588>"
      ]
     },
     "execution_count": 161,
     "metadata": {},
     "output_type": "execute_result"
    },
    {
     "data": {
      "image/png": "[encoded data removed]",
      "text/plain": [
       "<Figure size 432x288 with 1 Axes>"
      ]
     },
     "metadata": {},
     "output_type": "display_data"
    }
   ],
   "source": [
    "(return_cut/return_cut.sum()).plot()\n",
    "(price_bin/price_bin.sum()).plot()\n",
    "# return_dist['bin_%'].plot()\n",
    "# qpd.plot()"
   ]
  },
  {
   "cell_type": "markdown",
   "metadata": {},
   "source": [
    "红色是退货商品的价格分布，蓝色是全部商品的价格分布。从退货商品种类的角度，退货商品与总体商品相比，更集中在0-3元与5-10元这两个区间。"
   ]
  },
  {
   "cell_type": "code",
   "execution_count": 93,
   "metadata": {
    "ExecuteTime": {
     "end_time": "2021-07-23T06:56:05.113852Z",
     "start_time": "2021-07-23T06:56:05.084547Z"
    }
   },
   "outputs": [
    {
     "data": {
      "text/plain": [
       "UnitPrice\n",
       "(0, 1]         0.161663\n",
       "(1, 2]         0.405996\n",
       "(2, 3]         0.371273\n",
       "(3, 4]         0.014244\n",
       "(4, 5]         0.016029\n",
       "(5, 10]        0.022745\n",
       "(10, 15]       0.005848\n",
       "(15, 20]       0.000672\n",
       "(20, 50]       0.000715\n",
       "(50, 100]      0.000232\n",
       "(100, 200]     0.000203\n",
       "(200, 500]     0.000243\n",
       "(500, 1000]    0.000138\n",
       "Name: Quantity, dtype: float64"
      ]
     },
     "execution_count": 93,
     "metadata": {},
     "output_type": "execute_result"
    }
   ],
   "source": [
    "return_quantity_price=data_return[\"Quantity\"].groupby(pd.cut(data_return[\"UnitPrice\"],bins=[0,1,2,3,4,5,10,15,20,50,100,200,500,1000])).sum()\n",
    "return_quantity_price/return_quantity_price.sum()"
   ]
  },
  {
   "cell_type": "code",
   "execution_count": 94,
   "metadata": {
    "ExecuteTime": {
     "end_time": "2021-07-23T06:56:05.272405Z",
     "start_time": "2021-07-23T06:56:05.115840Z"
    }
   },
   "outputs": [
    {
     "data": {
      "text/plain": [
       "<matplotlib.axes._subplots.AxesSubplot at 0x26522a56348>"
      ]
     },
     "execution_count": 94,
     "metadata": {},
     "output_type": "execute_result"
    },
    {
     "data": {
      "image/png": "[encoded data removed]",
      "text/plain": [
       "<Figure size 432x288 with 1 Axes>"
      ]
     },
     "metadata": {
      "needs_background": "light"
     },
     "output_type": "display_data"
    }
   ],
   "source": [
    "(return_quantity_price/return_quantity_price.sum()).plot()\n",
    "(quantity_price/quantity_price.sum()).plot()"
   ]
  },
  {
   "cell_type": "markdown",
   "metadata": {},
   "source": [
    "1-10元的商品退货量会偏高一些。"
   ]
  },
  {
   "cell_type": "code",
   "execution_count": null,
   "metadata": {},
   "outputs": [],
   "source": []
  },
  {
   "cell_type": "code",
   "execution_count": null,
   "metadata": {},
   "outputs": [],
   "source": []
  },
  {
   "cell_type": "code",
   "execution_count": null,
   "metadata": {},
   "outputs": [],
   "source": []
  },
  {
   "cell_type": "markdown",
   "metadata": {},
   "source": [
    "## 顾客维度分析"
   ]
  },
  {
   "cell_type": "markdown",
   "metadata": {},
   "source": [
    "### 哪些顾客购买金额最多？"
   ]
  },
  {
   "cell_type": "code",
   "execution_count": 96,
   "metadata": {
    "ExecuteTime": {
     "end_time": "2021-07-23T06:57:26.053386Z",
     "start_time": "2021-07-23T06:57:25.957890Z"
    }
   },
   "outputs": [
    {
     "data": {
      "text/plain": [
       "CustomerID\n",
       "unknown    1.754902e+06\n",
       "14646.0    2.802060e+05\n",
       "18102.0    2.596573e+05\n",
       "17450.0    1.943908e+05\n",
       "16446.0    1.684725e+05\n",
       "14911.0    1.437112e+05\n",
       "12415.0    1.249145e+05\n",
       "14156.0    1.172101e+05\n",
       "17511.0    9.106238e+04\n",
       "16029.0    8.085084e+04\n",
       "12346.0    7.718360e+04\n",
       "Name: Total, dtype: float64"
      ]
     },
     "execution_count": 96,
     "metadata": {},
     "output_type": "execute_result"
    }
   ],
   "source": [
    "customer_total=data_buy[\"Total\"].groupby(data_buy[\"CustomerID\"]).sum().sort_values(ascending=False)\n",
    "customer_total.head(11)"
   ]
  },
  {
   "cell_type": "markdown",
   "metadata": {},
   "source": [
    "缺失客户ID的订单占比很大，后续分析可能有问题。"
   ]
  },
  {
   "cell_type": "markdown",
   "metadata": {},
   "source": [
    "### 哪些顾客购买次数最频繁？"
   ]
  },
  {
   "cell_type": "code",
   "execution_count": 97,
   "metadata": {
    "ExecuteTime": {
     "end_time": "2021-07-23T07:25:59.577714Z",
     "start_time": "2021-07-23T07:25:59.470274Z"
    }
   },
   "outputs": [
    {
     "data": {
      "text/plain": [
       "CustomerID\n",
       "unknown    2190\n",
       "12748.0     210\n",
       "14911.0     201\n",
       "17841.0     124\n",
       "13089.0      97\n",
       "14606.0      93\n",
       "15311.0      91\n",
       "12971.0      86\n",
       "14646.0      74\n",
       "16029.0      63\n",
       "13408.0      62\n",
       "18102.0      60\n",
       "13798.0      57\n",
       "14527.0      55\n",
       "14156.0      55\n",
       "16422.0      51\n",
       "13694.0      50\n",
       "15061.0      48\n",
       "15039.0      47\n",
       "16013.0      47\n",
       "Name: InvoiceNo, dtype: int64"
      ]
     },
     "execution_count": 97,
     "metadata": {},
     "output_type": "execute_result"
    }
   ],
   "source": [
    "customer_buy_fre=data_buy.drop_duplicates([\"InvoiceNo\"])[\"InvoiceNo\"].groupby(data_buy[\"CustomerID\"]).count().sort_values(ascending=False)\n",
    "customer_buy_fre[:20]"
   ]
  },
  {
   "cell_type": "markdown",
   "metadata": {},
   "source": [
    "### 如何根据这两个变量对顾客分类？"
   ]
  },
  {
   "cell_type": "code",
   "execution_count": 103,
   "metadata": {
    "ExecuteTime": {
     "end_time": "2021-07-23T07:36:03.208313Z",
     "start_time": "2021-07-23T07:36:03.185374Z"
    }
   },
   "outputs": [],
   "source": [
    "customer_total.drop(\"unknown\",inplace=True)\n",
    "customer_buy_fre.drop(\"unknown\",inplace=True)"
   ]
  },
  {
   "cell_type": "code",
   "execution_count": 104,
   "metadata": {
    "ExecuteTime": {
     "end_time": "2021-07-23T07:36:05.492072Z",
     "start_time": "2021-07-23T07:36:05.311087Z"
    }
   },
   "outputs": [
    {
     "data": {
      "text/plain": [
       "<matplotlib.lines.Line2D at 0x265223b57c8>"
      ]
     },
     "execution_count": 104,
     "metadata": {},
     "output_type": "execute_result"
    },
    {
     "data": {
      "image/png": "[encoded data removed]",
      "text/plain": [
       "<Figure size 432x288 with 1 Axes>"
      ]
     },
     "metadata": {},
     "output_type": "display_data"
    }
   ],
   "source": [
    "plt.style.use(\"ggplot\")\n",
    "plt.scatter(customer_buy_fre.sort_index(),customer_total.sort_index())\n",
    "plt.axhline(y=50000,c=\"green\")\n",
    "plt.axvline(x=50,c=\"blue\")"
   ]
  },
  {
   "cell_type": "markdown",
   "metadata": {},
   "source": [
    "可以根据顾客购买次数和购买金额，对顾客进行分组，采取不同的营销措施。"
   ]
  },
  {
   "cell_type": "markdown",
   "metadata": {},
   "source": [
    "### 订单的商品种类分布是怎样的？"
   ]
  },
  {
   "cell_type": "code",
   "execution_count": 120,
   "metadata": {
    "ExecuteTime": {
     "end_time": "2021-07-23T07:53:20.126402Z",
     "start_time": "2021-07-23T07:53:20.044590Z"
    }
   },
   "outputs": [],
   "source": [
    "order_type=data_buy[\"StockCode\"].groupby(data_buy[\"InvoiceNo\"]).count().sort_values(ascending=False)\n",
    "# stock_dist = pd.cut(order_type,bins=[0,50,100,150,200,250,300,500,1000,1200]).value_counts()\n",
    "# tmp1 = stock_dist/stock_dist.sum()\n",
    "# tmp2 = stock_dist.cumsum()/stock_dist.sum()\n",
    "# stock_dist_cum_p = pd.concat([tmp1,tmp2], axis=1)\n",
    "# stock_dist_cum_p.columns=['bin_%', 'bin_%_cum']\n"
   ]
  },
  {
   "cell_type": "code",
   "execution_count": 121,
   "metadata": {
    "ExecuteTime": {
     "end_time": "2021-07-23T07:53:21.393489Z",
     "start_time": "2021-07-23T07:53:21.387517Z"
    }
   },
   "outputs": [],
   "source": []
  },
  {
   "cell_type": "code",
   "execution_count": 123,
   "metadata": {
    "ExecuteTime": {
     "end_time": "2021-07-23T07:53:33.125778Z",
     "start_time": "2021-07-23T07:53:33.098892Z"
    }
   },
   "outputs": [
    {
     "data": {
      "text/html": [
       "<div>\n",
       "<style scoped>\n",
       "    .dataframe tbody tr th:only-of-type {\n",
       "        vertical-align: middle;\n",
       "    }\n",
       "\n",
       "    .dataframe tbody tr th {\n",
       "        vertical-align: top;\n",
       "    }\n",
       "\n",
       "    .dataframe thead th {\n",
       "        text-align: right;\n",
       "    }\n",
       "</style>\n",
       "<table border=\"1\" class=\"dataframe\">\n",
       "  <thead>\n",
       "    <tr style=\"text-align: right;\">\n",
       "      <th></th>\n",
       "      <th>bin_%</th>\n",
       "      <th>bin_%_cum</th>\n",
       "    </tr>\n",
       "  </thead>\n",
       "  <tbody>\n",
       "    <tr>\n",
       "      <td>(0, 50]</td>\n",
       "      <td>0.895108</td>\n",
       "      <td>0.895108</td>\n",
       "    </tr>\n",
       "    <tr>\n",
       "      <td>(50, 100]</td>\n",
       "      <td>0.073434</td>\n",
       "      <td>0.968542</td>\n",
       "    </tr>\n",
       "    <tr>\n",
       "      <td>(100, 150]</td>\n",
       "      <td>0.012062</td>\n",
       "      <td>0.980604</td>\n",
       "    </tr>\n",
       "    <tr>\n",
       "      <td>(150, 200]</td>\n",
       "      <td>0.007961</td>\n",
       "      <td>0.988565</td>\n",
       "    </tr>\n",
       "    <tr>\n",
       "      <td>(200, 250]</td>\n",
       "      <td>0.003812</td>\n",
       "      <td>0.992377</td>\n",
       "    </tr>\n",
       "    <tr>\n",
       "      <td>(300, 500]</td>\n",
       "      <td>0.003184</td>\n",
       "      <td>0.995561</td>\n",
       "    </tr>\n",
       "    <tr>\n",
       "      <td>(500, 1000]</td>\n",
       "      <td>0.002316</td>\n",
       "      <td>0.997877</td>\n",
       "    </tr>\n",
       "    <tr>\n",
       "      <td>(250, 300]</td>\n",
       "      <td>0.002075</td>\n",
       "      <td>0.999952</td>\n",
       "    </tr>\n",
       "    <tr>\n",
       "      <td>(1000, 1200]</td>\n",
       "      <td>0.000048</td>\n",
       "      <td>1.000000</td>\n",
       "    </tr>\n",
       "  </tbody>\n",
       "</table>\n",
       "</div>"
      ],
      "text/plain": [
       "                 bin_%  bin_%_cum\n",
       "(0, 50]       0.895108   0.895108\n",
       "(50, 100]     0.073434   0.968542\n",
       "(100, 150]    0.012062   0.980604\n",
       "(150, 200]    0.007961   0.988565\n",
       "(200, 250]    0.003812   0.992377\n",
       "(300, 500]    0.003184   0.995561\n",
       "(500, 1000]   0.002316   0.997877\n",
       "(250, 300]    0.002075   0.999952\n",
       "(1000, 1200]  0.000048   1.000000"
      ]
     },
     "execution_count": 123,
     "metadata": {},
     "output_type": "execute_result"
    }
   ],
   "source": [
    "bins_2 = [0,50,100,150,200,250,300,500,1000,1200]\n",
    "dist_cum_p(order_type,bins_2)"
   ]
  },
  {
   "cell_type": "markdown",
   "metadata": {},
   "source": [
    "### 哪些国家的顾客消费占比最大？"
   ]
  },
  {
   "cell_type": "code",
   "execution_count": null,
   "metadata": {},
   "outputs": [],
   "source": []
  },
  {
   "cell_type": "code",
   "execution_count": null,
   "metadata": {},
   "outputs": [],
   "source": []
  },
  {
   "cell_type": "code",
   "execution_count": null,
   "metadata": {},
   "outputs": [],
   "source": []
  },
  {
   "cell_type": "code",
   "execution_count": null,
   "metadata": {},
   "outputs": [],
   "source": []
  },
  {
   "cell_type": "markdown",
   "metadata": {},
   "source": [
    "### 哪些国家的顾客数量最多？"
   ]
  },
  {
   "cell_type": "code",
   "execution_count": null,
   "metadata": {},
   "outputs": [],
   "source": []
  },
  {
   "cell_type": "code",
   "execution_count": null,
   "metadata": {},
   "outputs": [],
   "source": []
  },
  {
   "cell_type": "code",
   "execution_count": null,
   "metadata": {},
   "outputs": [],
   "source": []
  },
  {
   "cell_type": "markdown",
   "metadata": {},
   "source": [
    "### 哪些国家的顾客平均消费最高？"
   ]
  },
  {
   "cell_type": "code",
   "execution_count": null,
   "metadata": {},
   "outputs": [],
   "source": []
  },
  {
   "cell_type": "code",
   "execution_count": null,
   "metadata": {},
   "outputs": [],
   "source": []
  },
  {
   "cell_type": "code",
   "execution_count": null,
   "metadata": {},
   "outputs": [],
   "source": []
  },
  {
   "cell_type": "code",
   "execution_count": null,
   "metadata": {},
   "outputs": [],
   "source": []
  },
  {
   "cell_type": "markdown",
   "metadata": {},
   "source": [
    "## 时间维度分析"
   ]
  },
  {
   "cell_type": "code",
   "execution_count": null,
   "metadata": {},
   "outputs": [],
   "source": []
  },
  {
   "cell_type": "code",
   "execution_count": null,
   "metadata": {},
   "outputs": [],
   "source": []
  },
  {
   "cell_type": "code",
   "execution_count": null,
   "metadata": {},
   "outputs": [],
   "source": []
  },
  {
   "cell_type": "code",
   "execution_count": null,
   "metadata": {},
   "outputs": [],
   "source": []
  },
  {
   "cell_type": "code",
   "execution_count": null,
   "metadata": {},
   "outputs": [],
   "source": []
  },
  {
   "cell_type": "code",
   "execution_count": null,
   "metadata": {},
   "outputs": [],
   "source": []
  },
  {
   "cell_type": "markdown",
   "metadata": {},
   "source": [
    "## 汇总分析"
   ]
  },
  {
   "cell_type": "code",
   "execution_count": null,
   "metadata": {},
   "outputs": [],
   "source": []
  },
  {
   "cell_type": "code",
   "execution_count": null,
   "metadata": {},
   "outputs": [],
   "source": []
  },
  {
   "cell_type": "code",
   "execution_count": null,
   "metadata": {},
   "outputs": [],
   "source": []
  },
  {
   "cell_type": "code",
   "execution_count": null,
   "metadata": {},
   "outputs": [],
   "source": []
  },
  {
   "cell_type": "code",
   "execution_count": null,
   "metadata": {},
   "outputs": [],
   "source": []
  },
  {
   "cell_type": "code",
   "execution_count": null,
   "metadata": {},
   "outputs": [],
   "source": []
  }
 ],
 "metadata": {
  "interpreter": {
   "hash": "97ae724bfa85b9b34df7982b8bb8c7216f435b92902d749e4263f71162bea840"
  },
  "kernelspec": {
   "display_name": "Python 3",
   "language": "python",
   "name": "python3"
  },
  "language_info": {
   "codemirror_mode": {
    "name": "ipython",
    "version": 3
   },
   "file_extension": ".py",
   "mimetype": "text/x-python",
   "name": "python",
   "nbconvert_exporter": "python",
   "pygments_lexer": "ipython3",
   "version": "3.7.4"
  },
  "toc": {
   "base_numbering": 1,
   "nav_menu": {},
   "number_sections": true,
   "sideBar": true,
   "skip_h1_title": false,
   "title_cell": "Table of Contents",
   "title_sidebar": "Contents",
   "toc_cell": false,
   "toc_position": {
    "height": "calc(100% - 180px)",
    "left": "10px",
    "top": "150px",
    "width": "384px"
   },
   "toc_section_display": true,
   "toc_window_display": true
  },
  "varInspector": {
   "cols": {
    "lenName": 16,
    "lenType": 16,
    "lenVar": 40
   },
   "kernels_config": {
    "python": {
     "delete_cmd_postfix": "",
     "delete_cmd_prefix": "del ",
     "library": "var_list.py",
     "varRefreshCmd": "print(var_dic_list())"
    },
    "r": {
     "delete_cmd_postfix": ") ",
     "delete_cmd_prefix": "rm(",
     "library": "var_list.r",
     "varRefreshCmd": "cat(var_dic_list()) "
    }
   },
   "types_to_exclude": [
    "module",
    "function",
    "builtin_function_or_method",
    "instance",
    "_Feature"
   ],
   "window_display": false
  }
 },
 "nbformat": 4,
 "nbformat_minor": 2
}
